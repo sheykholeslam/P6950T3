{
 "cells": [
  {
   "cell_type": "code",
   "execution_count": 8,
   "metadata": {
    "collapsed": false
   },
   "outputs": [],
   "source": [
    "import wget\n",
    "import numpy as np\n",
    "import pandas as pd\n",
    "import time as time\n",
    "import math\n",
    "import os\n",
    "import argparse\n",
    "import os\n",
    "\n",
    "def save_data_as_csv(Data, filepath):\n",
    "    directory = os.path.dirname(filepath)\n",
    "    if not os.path.exists(directory):\n",
    "        try:\n",
    "            os.makedirs(directory)\n",
    "        except OSError as error:\n",
    "            if error.errno != errno.EEXIST:\n",
    "                raise\n",
    "    with open(filepath, 'w') as datafile:\n",
    "        Data.to_csv(filepath, sep=',', encoding='utf-8')\n",
    "\n",
    "def download_data(startYear, endYear, stationId, cityName):\n",
    "    while (startYear <= endYear):\n",
    "        url = 'http://climate.weather.gc.ca/climate_data/bulk_data_e.html?format=csv&stationID='+str(stationId)+'&Year='+str(startYear)+'&Month=12&Day=31&timeframe=2&submit= Download+Data'\n",
    "        filename = wget.download(url)\n",
    "        File_Data = pd.read_csv(filename, encoding = 'ISO-8859-1', delimiter = ',', skiprows=25)\n",
    "        Data = pd.DataFrame(File_Data, columns = ['Date/Time', 'Max Temp (°C)', 'Min Temp (°C)'])\n",
    "        Data.replace('', np.nan, inplace = True)\n",
    "        Data = Data.dropna()       \n",
    "        startYear = startYear + 1\n",
    "        currentpath = os.getcwd()\n",
    "        filepath= (currentpath+'/DataFiles/GDD_Data_'+cityName+'.csv')\n",
    "        save_data_as_csv(Data, filepath)\n",
    "        os.remove(filename)\n",
    "download_data(2015, 2016, 50089, 'st. Johns' )"
   ]
  },
  {
   "cell_type": "code",
   "execution_count": null,
   "metadata": {
    "collapsed": false
   },
   "outputs": [],
   "source": []
  },
  {
   "cell_type": "code",
   "execution_count": 11,
   "metadata": {
    "collapsed": false
   },
   "outputs": [
    {
     "name": "stdout",
     "output_type": "stream",
     "text": [
      "File is downloaded\n"
     ]
    }
   ],
   "source": [
    "def test_download_data():\n",
    "    startyear=2015\n",
    "    endyear=2016\n",
    "    stationId=50089\n",
    "    cityName='st.Johns'\n",
    "        \n",
    "    download_data(startyear, endyear, stationId, cityName)\n",
    "    try:\n",
    "        currentpath = os.getcwd()\n",
    "        File_Data = pd.read_csv(currentpath+'/DataFiles/GDD_Data_st.Johns.csv')\n",
    "        print (\"File is downloaded\")\n",
    "        #Data = pd.DataFrame(File_Data, columns = ['Date/Time', 'Max Temp (°C)', 'Min Temp (°C)'])\n",
    "    except:\n",
    "        raise ValueError(\"Jupiter is not where it should be!\")\n",
    "\n",
    "test_download_data()"
   ]
  },
  {
   "cell_type": "code",
   "execution_count": null,
   "metadata": {
    "collapsed": true
   },
   "outputs": [],
   "source": []
  }
 ],
 "metadata": {
  "kernelspec": {
   "display_name": "Python 3",
   "language": "python",
   "name": "python3"
  },
  "language_info": {
   "codemirror_mode": {
    "name": "ipython",
    "version": 3
   },
   "file_extension": ".py",
   "mimetype": "text/x-python",
   "name": "python",
   "nbconvert_exporter": "python",
   "pygments_lexer": "ipython3",
   "version": "3.5.1+"
  }
 },
 "nbformat": 4,
 "nbformat_minor": 0
}
