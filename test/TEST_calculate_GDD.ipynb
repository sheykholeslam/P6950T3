{
 "cells": [
  {
   "cell_type": "code",
   "execution_count": null,
   "metadata": {
    "collapsed": false
   },
   "outputs": [],
   "source": []
  },
  {
   "cell_type": "code",
   "execution_count": 34,
   "metadata": {
    "collapsed": false
   },
   "outputs": [
    {
     "ename": "ImportError",
     "evalue": "No module named 'calculate_GDD'",
     "output_type": "error",
     "traceback": [
      "\u001b[1;31m---------------------------------------------------------------------------\u001b[0m",
      "\u001b[1;31mImportError\u001b[0m                               Traceback (most recent call last)",
      "\u001b[1;32m<ipython-input-34-bbd3a281e408>\u001b[0m in \u001b[0;36m<module>\u001b[1;34m()\u001b[0m\n\u001b[0;32m      6\u001b[0m \u001b[1;32mimport\u001b[0m \u001b[0msys\u001b[0m\u001b[1;33m\u001b[0m\u001b[0m\n\u001b[0;32m      7\u001b[0m \u001b[0msys\u001b[0m\u001b[1;33m.\u001b[0m\u001b[0mpath\u001b[0m\u001b[1;33m.\u001b[0m\u001b[0mappend\u001b[0m\u001b[1;33m(\u001b[0m\u001b[1;34m'./source'\u001b[0m\u001b[1;33m)\u001b[0m\u001b[1;33m\u001b[0m\u001b[0m\n\u001b[1;32m----> 8\u001b[1;33m \u001b[1;32mfrom\u001b[0m \u001b[0mcalculate_GDD\u001b[0m \u001b[1;32mimport\u001b[0m \u001b[0mcheckGDD\u001b[0m\u001b[1;33m\u001b[0m\u001b[0m\n\u001b[0m\u001b[0;32m      9\u001b[0m \u001b[1;32mfrom\u001b[0m \u001b[0mcalculate_GDD\u001b[0m \u001b[1;32mimport\u001b[0m \u001b[0mcalculate_GDD\u001b[0m\u001b[1;33m\u001b[0m\u001b[0m\n\u001b[0;32m     10\u001b[0m \u001b[1;33m\u001b[0m\u001b[0m\n",
      "\u001b[1;31mImportError\u001b[0m: No module named 'calculate_GDD'"
     ]
    }
   ],
   "source": [
    "import argparse\n",
    "import os\n",
    "import pandas as pd\n",
    "import numpy as np\n",
    "\n",
    "import sys\n",
    "sys.path.append('./source')\n",
    "from calculate_GDD import checkGDD\n",
    "from calculate_GDD import calculate_GDD\n",
    "\n",
    "\n",
    "def TEST_calculate_GDD():\n",
    "    \n",
    "    # Reading the data from downloaded .csv files. \n",
    "    CurrentPath = os.getcwd()\n",
    "    FilePath= (CurrentPath+'/DataFiles/GDD_Data_st.Johns.csv')\n",
    "    Hourly_Data = pd.read_csv(FilePath, encoding = 'ISO-8859-1', delimiter = ',' ,skiprows=0)\n",
    "    Data = pd.DataFrame(Hourly_Data, columns = ['Date/Time','Max Temp (Â°C)', 'Min Temp (Â°C)'])\n",
    "    Data.replace('', np.nan, inplace = True)\n",
    "    Data = Data.dropna()\n",
    "    \n",
    "    \n",
    "    #Please read this partttttttttttttttttttttttttttttttttttttttttttttttt\n",
    "    # I dont know how you calculated GDD\n",
    "    \n",
    "    #You should give variable GDD a list of GDD values. It is better to read calculated GDD \n",
    "    #from a CSV file which is calculated manualy\n",
    "    #T_Base is 10 in this Test\n",
    "    \n",
    "    GDD=[]\n",
    "    \n",
    "    \n",
    "    \n",
    "    \n",
    "    \n",
    "    #T_Base is 10. when you calculated GDD manualy you must set this variable 10\n",
    "    GDD_Data = calculate_GDD(Data, 10)\n",
    "    if GDD==GDD_Data:\n",
    "        print (\"GDD is calculated correctly\")\n",
    "    else:\n",
    "        print (\"GDD is not calculated correctly\")\n",
    "\n",
    "TEST_calculate_GDD()"
   ]
  },
  {
   "cell_type": "code",
   "execution_count": null,
   "metadata": {
    "collapsed": true
   },
   "outputs": [],
   "source": []
  }
 ],
 "metadata": {
  "kernelspec": {
   "display_name": "Python 3",
   "language": "python",
   "name": "python3"
  },
  "language_info": {
   "codemirror_mode": {
    "name": "ipython",
    "version": 3
   },
   "file_extension": ".py",
   "mimetype": "text/x-python",
   "name": "python",
   "nbconvert_exporter": "python",
   "pygments_lexer": "ipython3",
   "version": "3.5.1+"
  }
 },
 "nbformat": 4,
 "nbformat_minor": 0
}
