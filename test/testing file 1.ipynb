{
 "cells": [
  {
   "cell_type": "code",
   "execution_count": 3,
   "metadata": {
    "collapsed": false,
    "scrolled": true
   },
   "outputs": [],
   "source": [
    "\n",
    "import os\n",
    "\n",
    "def save_data_as_csv(Data, filepath):\n",
    "    directory = os.path.dirname(filepath)\n",
    "    if not os.path.exists(directory):\n",
    "        try:\n",
    "            os.makedirs(directory)\n",
    "        except OSError as error:\n",
    "            if error.errno != errno.EEXIST:\n",
    "                raise\n",
    "    with open(filepath, 'w') as datafile:\n",
    "        Data.to_csv(filepath, sep=',', encoding='utf-8')\n"
   ]
  },
  {
   "cell_type": "code",
   "execution_count": 15,
   "metadata": {
    "collapsed": false
   },
   "outputs": [],
   "source": [
    "import wget\n",
    "import numpy as np\n",
    "import pandas as pd\n",
    "import time as time\n",
    "import math\n",
    "import os\n",
    "import argparse\n",
    "from save_data_as_csv import save_data_as_csv\n",
    "\n",
    "def download_data(startYear, endYear, stationId, cityName):\n",
    "    while (startYear <= endYear):\n",
    "        url = 'http://climate.weather.gc.ca/climate_data/bulk_data_e.html?format=csv&stationID='+str(stationId)+'&Year='+str(startYear)+'&Month=12&Day=31&timeframe=2&submit= Download+Data'\n",
    "        filename = wget.download(url)\n",
    "        File_Data = pd.read_csv(filename, encoding = 'ISO-8859-1', delimiter = ',', skiprows=25)\n",
    "        Data = pd.DataFrame(File_Data, columns = ['Date/Time', 'Max Temp (°C)', 'Min Temp (°C)'])\n",
    "        Data.replace('', np.nan, inplace = True)\n",
    "        Data = Data.dropna()       \n",
    "        startYear = startYear + 1\n",
    "        currentpath = os.getcwd()\n",
    "        filepath= (currentpath+'/DataFiles/GDD_Data_'+cityName+'.csv')\n",
    "        save_data_as_csv(Data, filepath)\n",
    "    os.remove(filename)\n",
    "download_data(2015, 2016, 50089,'st. Johns')"
   ]
  },
  {
   "cell_type": "code",
   "execution_count": 66,
   "metadata": {
    "collapsed": false
   },
   "outputs": [],
   "source": [
    "import numpy as np\n",
    "import pandas as pd\n",
    "import os\n",
    "\n",
    "cityName = 'st. Johns'\n",
    "def extract_data_from_csv(FilePath):\n",
    "    File_Data = pd.read_csv(FilePath, encoding = 'ISO-8859-1', delimiter = ',' ,skiprows=0)\n",
    "    Data = pd.DataFrame(File_Data)\n",
    "    Data.replace('', np.nan, inplace = True)\n",
    "    Data = Data.dropna()\n",
    "    Index = Data.keys()\n",
    "    Date, maxTemp, minTemp = np.array(Data[Index[1]]),np.array(Data[Index[2]]), np.array(Data[Index[3]])\n",
    "    \n",
    "    return Data, Date, maxTemp, minTemp \n",
    "\n",
    "a=extract_data_from_csv(os.getcwd()+'/DataFiles/GDD_Data_'+cityName+'.csv')"
   ]
  },
  {
   "cell_type": "code",
   "execution_count": 73,
   "metadata": {
    "collapsed": false
   },
   "outputs": [
    {
     "name": "stdout",
     "output_type": "stream",
     "text": [
      "Great st.Johns\n"
     ]
    }
   ],
   "source": [
    "def test_extract_data_from_csv():\n",
    "        \n",
    "    cityName = 'st. Johns'\n",
    "    currentpath = os.getcwd()\n",
    "    FilePath= (currentpath+'/DataFiles/GDD_Data_'+cityName+'.csv')\n",
    "    a, b, c, d= extract_data_from_csv(FilePath)\n",
    "\n",
    "    File_Data = pd.read_csv(currentpath+'/DataFiles/GDD_Data_st. Johns.csv', encoding = 'ISO-8859-1', delimiter = ',' ,skiprows=0)\n",
    "    Data = pd.DataFrame(File_Data)\n",
    "    Data.replace('', np.nan, inplace = True)\n",
    "    Data = Data.dropna()\n",
    "    Index = Data.keys()\n",
    "    Date, maxTemp, minTemp = np.array(Data[Index[1]]),np.array(Data[Index[2]]), np.array(Data[Index[3]])\n",
    "    if b.all()==Date.all():\n",
    "        print (\"Great st.Johns\")\n",
    "    else:\n",
    "        print(\"Try again\")\n",
    "        \n",
    "test_extract_data_from_csv()"
   ]
  },
  {
   "cell_type": "code",
   "execution_count": null,
   "metadata": {
    "collapsed": true
   },
   "outputs": [],
   "source": []
  }
 ],
 "metadata": {
  "kernelspec": {
   "display_name": "Python 3",
   "language": "python",
   "name": "python3"
  },
  "language_info": {
   "codemirror_mode": {
    "name": "ipython",
    "version": 3
   },
   "file_extension": ".py",
   "mimetype": "text/x-python",
   "name": "python",
   "nbconvert_exporter": "python",
   "pygments_lexer": "ipython3",
   "version": "3.5.1+"
  }
 },
 "nbformat": 4,
 "nbformat_minor": 0
}
